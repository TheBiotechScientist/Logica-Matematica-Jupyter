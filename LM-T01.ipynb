{
 "cells": [
  {
   "cell_type": "markdown",
   "metadata": {},
   "source": [
    "# Introducción a la Lógica Simbólica\n",
    "## \n",
    "### "
   ]
  },
  {
   "cell_type": "markdown",
   "metadata": {},
   "source": [
    "## Utilizando de Markdown para notas matemáticas"
   ]
  },
  {
   "cell_type": "markdown",
   "metadata": {},
   "source": [
    "$\\LaTeX$ es un *metalenguaje* (parecido a ***HTML***) que sirve para crear textos científicos de manra profesional. Es una colección de macros para definir el acabdo que tendrá un documento. Genera diferentes formatos vectoriales de salida como PDF, PostScript, DVI, HTML, entre otros. Es útil para la elaboración de artículos cientícos, libros o tesis.\n",
    "\n",
    "[Link de comandos $\\LaTeX$](https://manualdelatex.com/simbolos#chapter8)"
   ]
  },
  {
   "cell_type": "markdown",
   "metadata": {},
   "source": [
    "Los archivos `*.ipynb` provienen de la palabra *`IPython Notebook`*"
   ]
  },
  {
   "cell_type": "markdown",
   "metadata": {},
   "source": [
    "Las celdas *Markdown* nos permiten añadir texto con algunas *etiquetas* para darle formato. Tales como:\n",
    "\n",
    "- `*palabra*`: Da formato de *itálica* al texto.\n",
    "- `**palabra**`: Da formato de negrita al texto.\n",
    "- \\``codigo`\\`: Da formato de código de programación en línea con el texto. ejemplo `print(\"Hello\")`"
   ]
  },
  {
   "cell_type": "markdown",
   "metadata": {},
   "source": [
    "Veamos los comandos $\\LaTeX$ para escribir los conectores lógicos:\n",
    "\n",
    "| Conector | Comando $\\LaTeX$ | Nombre     | Se lee como |\n",
    "| :------: | :-------------:  | :---------:|:-----------:|\n",
    "| $\\neg$ | `\\neg` | Negación | *no* |\n",
    "| $\\lor$ | `\\lor` | Conjunción | *o* |\n",
    "| $\\land$ | `\\land` | Disyunción | *y* |\n",
    "| $\\rightarrow$ | `\\rightarrow` | Implicación | *Si...Entonces...* |\n",
    "| $\\forall$ | `\\forall` | Cuantificador universal | *Para todo...*  |\n",
    "| $\\exists$ | `\\exists` | Cuantificador existencial | *Existe un(a)...* |\n",
    "\n",
    "Otros comandos $\\LaTeX$ útiles para escribir proposiciones:\n",
    "\n",
    "| Conector | Comando $\\LaTeX$ | Ejemplo     |\n",
    "| :------: | :-------------:  | :---------: |\n",
    "| $\\underbrace{XXXXXX}_{y}$ |`\\underbrace{\\text{Sentencia}}_{Texto debajo}` | $\\underbrace{\\text{Esta es una proposición }}_{P} \\text{compuesta con } \\underbrace{\\text{esta otra proposición}}_{Q}$ |"
   ]
  },
  {
   "cell_type": "markdown",
   "metadata": {},
   "source": [
    "$\\underbrace{\\text{Esta es una proposición }}_{P} \\text{compuesta con } \\underbrace{\\text{esta otra proposición}}_{Q}$"
   ]
  },
  {
   "cell_type": "markdown",
   "metadata": {},
   "source": [
    "| $P$      |   $Q$  | $(P \\lor Q)$ |\n",
    "| :------: | :-------------:  | :---------:|\n",
    "| $V$ | $V$ | $V$ |"
   ]
  },
  {
   "cell_type": "markdown",
   "metadata": {},
   "source": [
    "El comando para instalar *paquetes* o *librerías* en `pyhton` es la herramienta `pip`.\n",
    "\n",
    "Se usa así:\n",
    "- `shift + 2`: \"\n",
    "- `?`: '\n",
    "- `altgr + }`: \\`\n",
    "- `ctrl + }`: Comenta/descomenta código en celda de código.\n",
    "- `alt + `$\\uparrow$ $\\downarrow$: En la celda de código mueve el texto hacia arriba o hacia abajo."
   ]
  },
  {
   "cell_type": "code",
   "execution_count": 12,
   "metadata": {},
   "outputs": [
    {
     "name": "stdout",
     "output_type": "stream",
     "text": [
      "Collecting logic\n",
      "  Downloading logic-0.2.3.tar.gz (20 kB)\n",
      "  Preparing metadata (setup.py): started\n",
      "  Preparing metadata (setup.py): finished with status 'done'\n",
      "Collecting toolz (from logic)\n",
      "  Downloading toolz-0.12.0-py3-none-any.whl (55 kB)\n",
      "     ---------------------------------------- 0.0/55.8 kB ? eta -:--:--\n",
      "     -------------------------------------- 55.8/55.8 kB 970.1 kB/s eta 0:00:00\n",
      "Collecting multipledispatch (from logic)\n",
      "  Downloading multipledispatch-1.0.0-py3-none-any.whl.metadata (3.8 kB)\n",
      "Collecting unification (from logic)\n",
      "  Downloading unification-0.2.2-py2.py3-none-any.whl (10 kB)\n",
      "Downloading multipledispatch-1.0.0-py3-none-any.whl (12 kB)\n",
      "Building wheels for collected packages: logic\n",
      "  Building wheel for logic (setup.py): started\n",
      "  Building wheel for logic (setup.py): finished with status 'done'\n",
      "  Created wheel for logic: filename=logic-0.2.3-py3-none-any.whl size=13721 sha256=abfa2e1c38cd8bd2ce03c5219a2f1cf50120ea848caf48acc1d38252a11f1cb0\n",
      "  Stored in directory: c:\\users\\javne\\appdata\\local\\pip\\cache\\wheels\\e5\\05\\fe\\136e964ae87083e54ec6e1202b1bddac9ce99e812d5d221c22\n",
      "Successfully built logic\n",
      "Installing collected packages: multipledispatch, toolz, unification, logic\n",
      "Successfully installed logic-0.2.3 multipledispatch-1.0.0 toolz-0.12.0 unification-0.2.2\n"
     ]
    }
   ],
   "source": [
    "# ! pip install logic\n",
    "# ! python --version\n",
    "# import logic\n",
    "# whats.send_message()"
   ]
  },
  {
   "cell_type": "code",
   "execution_count": null,
   "metadata": {},
   "outputs": [],
   "source": [
    "# ! python --version\n",
    "# %pip install logic"
   ]
  },
  {
   "cell_type": "code",
   "execution_count": 2,
   "metadata": {},
   "outputs": [],
   "source": [
    "from logic import *"
   ]
  },
  {
   "cell_type": "code",
   "execution_count": 3,
   "metadata": {},
   "outputs": [],
   "source": [
    "P,Q,R,S = vars('P','Q','R','S')"
   ]
  },
  {
   "cell_type": "code",
   "execution_count": 4,
   "metadata": {},
   "outputs": [
    {
     "data": {
      "text/plain": [
       "Proposition( P )"
      ]
     },
     "execution_count": 4,
     "metadata": {},
     "output_type": "execute_result"
    }
   ],
   "source": [
    "P"
   ]
  },
  {
   "cell_type": "code",
   "execution_count": 5,
   "metadata": {},
   "outputs": [
    {
     "data": {
      "text/plain": [
       "Proposition( Q )"
      ]
     },
     "execution_count": 5,
     "metadata": {},
     "output_type": "execute_result"
    }
   ],
   "source": [
    "Q"
   ]
  },
  {
   "cell_type": "code",
   "execution_count": 10,
   "metadata": {},
   "outputs": [
    {
     "name": "stdout",
     "output_type": "stream",
     "text": [
      "¬P\n",
      "P v Q\n",
      "P ^ Q\n",
      "P => Q\n",
      "P <=> Q\n"
     ]
    }
   ],
   "source": [
    "print(~P)\n",
    "print(P|Q)\n",
    "print(P&Q)\n",
    "print(P>>Q)\n",
    "print(P.iff(Q))"
   ]
  },
  {
   "cell_type": "code",
   "execution_count": 11,
   "metadata": {},
   "outputs": [
    {
     "name": "stdout",
     "output_type": "stream",
     "text": [
      "  P      Q    #  P v Q\n",
      "######################\n",
      "True   True   #  True \n",
      "True   False  #  True \n",
      "False  True   #  True \n",
      "False  False  #  False\n",
      "\n"
     ]
    }
   ],
   "source": [
    "(P|Q).print_truth_table()"
   ]
  },
  {
   "cell_type": "markdown",
   "metadata": {},
   "source": [
    "El código se ejecutó al fin!"
   ]
  },
  {
   "cell_type": "code",
   "execution_count": 4,
   "metadata": {},
   "outputs": [
    {
     "name": "stdout",
     "output_type": "stream",
     "text": [
      "Cadena de texto más el número 25\n"
     ]
    }
   ],
   "source": [
    "# Definiendo variables:\n",
    "x = \"Cadena de texto más el número \"\n",
    "y = 25 # este es un número entero (tipo int)\n",
    "\n",
    "print(x + str(25))"
   ]
  },
  {
   "cell_type": "markdown",
   "metadata": {},
   "source": [
    "Agregando una ecuación simple para $y$:\n",
    "\n",
    "Esta no es una ecuación en línea.\n",
    "$$\n",
    "y = ax^2 + bx +c\n",
    "$$"
   ]
  },
  {
   "cell_type": "code",
   "execution_count": null,
   "metadata": {},
   "outputs": [],
   "source": []
  }
 ],
 "metadata": {
  "kernelspec": {
   "display_name": "symboliclogic",
   "language": "python",
   "name": "symboliclogic"
  },
  "language_info": {
   "codemirror_mode": {
    "name": "ipython",
    "version": 3
   },
   "file_extension": ".py",
   "mimetype": "text/x-python",
   "name": "python",
   "nbconvert_exporter": "python",
   "pygments_lexer": "ipython3",
   "version": "3.11.5"
  },
  "toc": {
   "base_numbering": 1,
   "nav_menu": {},
   "number_sections": true,
   "sideBar": false,
   "skip_h1_title": false,
   "title_cell": "Contenido",
   "title_sidebar": "Contenido",
   "toc_cell": true,
   "toc_position": {
    "height": "47.6875px",
    "left": "472px",
    "top": "332.25px",
    "width": "169.984px"
   },
   "toc_section_display": false,
   "toc_window_display": true
  }
 },
 "nbformat": 4,
 "nbformat_minor": 2
}
