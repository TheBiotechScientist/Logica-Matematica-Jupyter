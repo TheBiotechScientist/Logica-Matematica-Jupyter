{
 "cells": [
  {
   "cell_type": "markdown",
   "metadata": {
    "toc": true
   },
   "source": [
    "<h1>Contenido<span class=\"tocSkip\"></span></h1>\n",
    "<div class=\"toc\"><ul class=\"toc-item\"><li><span><a href=\"#Lógica-Matemática\" data-toc-modified-id=\"Lógica-Matemática-1\"><span class=\"toc-item-num\">1&nbsp;&nbsp;</span>Lógica Matemática</a></span></li></ul></div>"
   ]
  },
  {
   "cell_type": "markdown",
   "metadata": {
    "hide_input": true
   },
   "source": [
    "#### EducadistanciaSLP\n",
    "### Lic. en Informática Administrativa\n",
    "---\n",
    "# Lógica Matemática\n",
    "---\n",
    "##### Prof. Javier Morales M.\n"
   ]
  },
  {
   "cell_type": "markdown",
   "metadata": {},
   "source": [
    "También conocida como _Lógica Simbólica_, es la rama de las matemáticas que se encarga del estudio del razonamiento sistematizado y metodológico sobre las sentencias de verdad."
   ]
  },
  {
   "cell_type": "markdown",
   "metadata": {
    "hide_input": true
   },
   "source": [
    "Este es texto normal que contiene una ecuación en $\\LaTeX$:\n",
    "\n",
    "$$\n",
    "\\begin{equation}\n",
    "x^2+bx+c=0\n",
    "\\end{equation}\n",
    "$$\n",
    "\n",
    "$$\n",
    "\\begin{equation}\n",
    "(\\exists x)(Px \\rightarrow Qx )\n",
    "\\end{equation}\n",
    "$$"
   ]
  },
  {
   "cell_type": "markdown",
   "metadata": {},
   "source": [
    "$$\n",
    "\\begin{equation}\n",
    "\\mathbf{r} \\equiv \\begin{bmatrix}\n",
    "y \\\\\n",
    "\\theta\n",
    "\\end{bmatrix}\n",
    "\\end{equation}\n",
    "$$"
   ]
  },
  {
   "cell_type": "markdown",
   "metadata": {},
   "source": [
    "$$\\begin{equation}\n",
    "(\\neg P \\lor Q)\n",
    "\\end{equation}$$"
   ]
  },
  {
   "cell_type": "markdown",
   "metadata": {
    "hide_input": true
   },
   "source": [
    "Vector **r** is defined by equation "
   ]
  },
  {
   "cell_type": "code",
   "execution_count": null,
   "metadata": {},
   "outputs": [],
   "source": [
    "# import os\n",
    "# print(os.environ)\n",
    "# ! python -m ipykernel install --user --name=symboliclogic\n",
    "# import sys\n",
    "# sys.executable\n",
    "# sys.path\n",
    "# ! type pip\n",
    "# !conda install --yes --prefix {sys.prefix} numpy\n",
    "# import numpy\n",
    "# sys.prefix"
   ]
  }
 ],
 "metadata": {
  "kernelspec": {
   "display_name": "Python 3 (ipykernel)",
   "language": "python",
   "name": "python3"
  },
  "language_info": {
   "codemirror_mode": {
    "name": "ipython",
    "version": 3
   },
   "file_extension": ".py",
   "mimetype": "text/x-python",
   "name": "python",
   "nbconvert_exporter": "python",
   "pygments_lexer": "ipython3",
   "version": "3.11.5"
  },
  "toc": {
   "base_numbering": 1,
   "nav_menu": {},
   "number_sections": true,
   "sideBar": true,
   "skip_h1_title": false,
   "title_cell": "Contenido",
   "title_sidebar": "Contenido",
   "toc_cell": true,
   "toc_position": {
    "height": "420.909px",
    "left": "270.997px",
    "top": "110.795px",
    "width": "252.516px"
   },
   "toc_section_display": true,
   "toc_window_display": true
  }
 },
 "nbformat": 4,
 "nbformat_minor": 4
}
